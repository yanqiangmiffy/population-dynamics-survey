{
 "cells": [
  {
   "cell_type": "markdown",
   "metadata": {},
   "source": [
    "## 1 加载数据"
   ]
  },
  {
   "cell_type": "code",
   "execution_count": 1,
   "metadata": {},
   "outputs": [],
   "source": [
    "import pandas as pd\n",
    "import pandas_profiling as pdp\n",
    "pd.set_option('display.max_columns',100)"
   ]
  },
  {
   "cell_type": "code",
   "execution_count": 2,
   "metadata": {},
   "outputs": [],
   "source": [
    "flow_train=pd.read_csv('../input/flow_train.csv')\n",
    "transition_train=pd.read_csv('../input/transition_train.csv')"
   ]
  },
  {
   "cell_type": "code",
   "execution_count": 3,
   "metadata": {},
   "outputs": [
    {
     "data": {
      "text/html": [
       "<div>\n",
       "<style scoped>\n",
       "    .dataframe tbody tr th:only-of-type {\n",
       "        vertical-align: middle;\n",
       "    }\n",
       "\n",
       "    .dataframe tbody tr th {\n",
       "        vertical-align: top;\n",
       "    }\n",
       "\n",
       "    .dataframe thead th {\n",
       "        text-align: right;\n",
       "    }\n",
       "</style>\n",
       "<table border=\"1\" class=\"dataframe\">\n",
       "  <thead>\n",
       "    <tr style=\"text-align: right;\">\n",
       "      <th></th>\n",
       "      <th>date_dt</th>\n",
       "      <th>city_code</th>\n",
       "      <th>district_code</th>\n",
       "      <th>dwell</th>\n",
       "      <th>flow_in</th>\n",
       "      <th>flow_out</th>\n",
       "    </tr>\n",
       "  </thead>\n",
       "  <tbody>\n",
       "    <tr>\n",
       "      <th>0</th>\n",
       "      <td>20170601</td>\n",
       "      <td>06d86ef037e4bd311b94467c3320ff38</td>\n",
       "      <td>85792b2278de59316d1158f6a97537ec</td>\n",
       "      <td>118.861740</td>\n",
       "      <td>54.421293</td>\n",
       "      <td>52.089701</td>\n",
       "    </tr>\n",
       "    <tr>\n",
       "      <th>1</th>\n",
       "      <td>20170601</td>\n",
       "      <td>5615dc7c1af1f7dabd80bd8b8ecb1ea0</td>\n",
       "      <td>1d86aa481642ba64ef42e2956339bbad</td>\n",
       "      <td>130.333409</td>\n",
       "      <td>235.490857</td>\n",
       "      <td>231.275943</td>\n",
       "    </tr>\n",
       "    <tr>\n",
       "      <th>2</th>\n",
       "      <td>20170601</td>\n",
       "      <td>c7537db4101856877ea6381d0174283c</td>\n",
       "      <td>08751b85e3dc67f2e690cf8945a4d85b</td>\n",
       "      <td>98.698267</td>\n",
       "      <td>57.672715</td>\n",
       "      <td>54.252464</td>\n",
       "    </tr>\n",
       "    <tr>\n",
       "      <th>3</th>\n",
       "      <td>20170601</td>\n",
       "      <td>5615dc7c1af1f7dabd80bd8b8ecb1ea0</td>\n",
       "      <td>50ec193f67e23ca084bb7af4100c1243</td>\n",
       "      <td>280.984567</td>\n",
       "      <td>571.333345</td>\n",
       "      <td>555.579813</td>\n",
       "    </tr>\n",
       "    <tr>\n",
       "      <th>4</th>\n",
       "      <td>20170601</td>\n",
       "      <td>3f7f0ce35d6d0a08377eb2efe2189f4f</td>\n",
       "      <td>dad5b1a26517a039827215846bcaf394</td>\n",
       "      <td>99.126162</td>\n",
       "      <td>72.334678</td>\n",
       "      <td>69.968155</td>\n",
       "    </tr>\n",
       "  </tbody>\n",
       "</table>\n",
       "</div>"
      ],
      "text/plain": [
       "    date_dt                         city_code  \\\n",
       "0  20170601  06d86ef037e4bd311b94467c3320ff38   \n",
       "1  20170601  5615dc7c1af1f7dabd80bd8b8ecb1ea0   \n",
       "2  20170601  c7537db4101856877ea6381d0174283c   \n",
       "3  20170601  5615dc7c1af1f7dabd80bd8b8ecb1ea0   \n",
       "4  20170601  3f7f0ce35d6d0a08377eb2efe2189f4f   \n",
       "\n",
       "                      district_code       dwell     flow_in    flow_out  \n",
       "0  85792b2278de59316d1158f6a97537ec  118.861740   54.421293   52.089701  \n",
       "1  1d86aa481642ba64ef42e2956339bbad  130.333409  235.490857  231.275943  \n",
       "2  08751b85e3dc67f2e690cf8945a4d85b   98.698267   57.672715   54.252464  \n",
       "3  50ec193f67e23ca084bb7af4100c1243  280.984567  571.333345  555.579813  \n",
       "4  dad5b1a26517a039827215846bcaf394   99.126162   72.334678   69.968155  "
      ]
     },
     "execution_count": 3,
     "metadata": {},
     "output_type": "execute_result"
    }
   ],
   "source": [
    "flow_train.head()"
   ]
  },
  {
   "cell_type": "code",
   "execution_count": 4,
   "metadata": {},
   "outputs": [
    {
     "data": {
      "text/html": [
       "<div>\n",
       "<style scoped>\n",
       "    .dataframe tbody tr th:only-of-type {\n",
       "        vertical-align: middle;\n",
       "    }\n",
       "\n",
       "    .dataframe tbody tr th {\n",
       "        vertical-align: top;\n",
       "    }\n",
       "\n",
       "    .dataframe thead th {\n",
       "        text-align: right;\n",
       "    }\n",
       "</style>\n",
       "<table border=\"1\" class=\"dataframe\">\n",
       "  <thead>\n",
       "    <tr style=\"text-align: right;\">\n",
       "      <th></th>\n",
       "      <th>date_dt</th>\n",
       "      <th>o_city_code</th>\n",
       "      <th>o_district_code</th>\n",
       "      <th>d_city_code</th>\n",
       "      <th>d_district_code</th>\n",
       "      <th>cnt</th>\n",
       "    </tr>\n",
       "  </thead>\n",
       "  <tbody>\n",
       "    <tr>\n",
       "      <th>0</th>\n",
       "      <td>20170601</td>\n",
       "      <td>a20d041605db832309e26c003c626719</td>\n",
       "      <td>879c99a1536ce81df8e84c0c9cf6ff68</td>\n",
       "      <td>3f7f0ce35d6d0a08377eb2efe2189f4f</td>\n",
       "      <td>01bb949d16b241654d3be95fa224abc8</td>\n",
       "      <td>0.008733</td>\n",
       "    </tr>\n",
       "    <tr>\n",
       "      <th>1</th>\n",
       "      <td>20170601</td>\n",
       "      <td>c7537db4101856877ea6381d0174283c</td>\n",
       "      <td>82271c9f4c9bf3b072ebe43b29d01caf</td>\n",
       "      <td>c7537db4101856877ea6381d0174283c</td>\n",
       "      <td>4a2ee3a671acbb271743ca0abbcadc70</td>\n",
       "      <td>2.066705</td>\n",
       "    </tr>\n",
       "    <tr>\n",
       "      <th>2</th>\n",
       "      <td>20170601</td>\n",
       "      <td>5615dc7c1af1f7dabd80bd8b8ecb1ea0</td>\n",
       "      <td>2d9ca395c9405028ca5d6635253d7166</td>\n",
       "      <td>a20d041605db832309e26c003c626719</td>\n",
       "      <td>01c2fa70527b0c72808f3bc27eaad4c9</td>\n",
       "      <td>0.177562</td>\n",
       "    </tr>\n",
       "    <tr>\n",
       "      <th>3</th>\n",
       "      <td>20170601</td>\n",
       "      <td>a20d041605db832309e26c003c626719</td>\n",
       "      <td>cc000ec2dd2b1c6571e74cecc641656e</td>\n",
       "      <td>58a33c947775af5de36841c9f553317d</td>\n",
       "      <td>0b28636d08bff292de12f663d522c55f</td>\n",
       "      <td>0.113523</td>\n",
       "    </tr>\n",
       "    <tr>\n",
       "      <th>4</th>\n",
       "      <td>20170601</td>\n",
       "      <td>c7537db4101856877ea6381d0174283c</td>\n",
       "      <td>3f92d69b5335d09f3365beaeec3da4b8</td>\n",
       "      <td>58a33c947775af5de36841c9f553317d</td>\n",
       "      <td>0b28636d08bff292de12f663d522c55f</td>\n",
       "      <td>0.058217</td>\n",
       "    </tr>\n",
       "  </tbody>\n",
       "</table>\n",
       "</div>"
      ],
      "text/plain": [
       "    date_dt                       o_city_code  \\\n",
       "0  20170601  a20d041605db832309e26c003c626719   \n",
       "1  20170601  c7537db4101856877ea6381d0174283c   \n",
       "2  20170601  5615dc7c1af1f7dabd80bd8b8ecb1ea0   \n",
       "3  20170601  a20d041605db832309e26c003c626719   \n",
       "4  20170601  c7537db4101856877ea6381d0174283c   \n",
       "\n",
       "                    o_district_code                       d_city_code  \\\n",
       "0  879c99a1536ce81df8e84c0c9cf6ff68  3f7f0ce35d6d0a08377eb2efe2189f4f   \n",
       "1  82271c9f4c9bf3b072ebe43b29d01caf  c7537db4101856877ea6381d0174283c   \n",
       "2  2d9ca395c9405028ca5d6635253d7166  a20d041605db832309e26c003c626719   \n",
       "3  cc000ec2dd2b1c6571e74cecc641656e  58a33c947775af5de36841c9f553317d   \n",
       "4  3f92d69b5335d09f3365beaeec3da4b8  58a33c947775af5de36841c9f553317d   \n",
       "\n",
       "                    d_district_code       cnt  \n",
       "0  01bb949d16b241654d3be95fa224abc8  0.008733  \n",
       "1  4a2ee3a671acbb271743ca0abbcadc70  2.066705  \n",
       "2  01c2fa70527b0c72808f3bc27eaad4c9  0.177562  \n",
       "3  0b28636d08bff292de12f663d522c55f  0.113523  \n",
       "4  0b28636d08bff292de12f663d522c55f  0.058217  "
      ]
     },
     "execution_count": 4,
     "metadata": {},
     "output_type": "execute_result"
    }
   ],
   "source": [
    "transition_train.head()"
   ]
  },
  {
   "cell_type": "code",
   "execution_count": 5,
   "metadata": {},
   "outputs": [
    {
     "data": {
      "text/plain": [
       "((26852, 6), (2480320, 6))"
      ]
     },
     "execution_count": 5,
     "metadata": {},
     "output_type": "execute_result"
    }
   ],
   "source": [
    "flow_train.shape,transition_train.shape"
   ]
  },
  {
   "cell_type": "code",
   "execution_count": 6,
   "metadata": {},
   "outputs": [
    {
     "data": {
      "text/html": [
       "<div>\n",
       "<style scoped>\n",
       "    .dataframe tbody tr th:only-of-type {\n",
       "        vertical-align: middle;\n",
       "    }\n",
       "\n",
       "    .dataframe tbody tr th {\n",
       "        vertical-align: top;\n",
       "    }\n",
       "\n",
       "    .dataframe thead th {\n",
       "        text-align: right;\n",
       "    }\n",
       "</style>\n",
       "<table border=\"1\" class=\"dataframe\">\n",
       "  <thead>\n",
       "    <tr style=\"text-align: right;\">\n",
       "      <th></th>\n",
       "      <th>date_dt</th>\n",
       "      <th>dwell</th>\n",
       "      <th>flow_in</th>\n",
       "      <th>flow_out</th>\n",
       "    </tr>\n",
       "  </thead>\n",
       "  <tbody>\n",
       "    <tr>\n",
       "      <th>count</th>\n",
       "      <td>2.685200e+04</td>\n",
       "      <td>26852.000000</td>\n",
       "      <td>26852.000000</td>\n",
       "      <td>26852.000000</td>\n",
       "    </tr>\n",
       "    <tr>\n",
       "      <th>mean</th>\n",
       "      <td>2.017294e+07</td>\n",
       "      <td>257.717463</td>\n",
       "      <td>381.688098</td>\n",
       "      <td>381.688098</td>\n",
       "    </tr>\n",
       "    <tr>\n",
       "      <th>std</th>\n",
       "      <td>3.829110e+03</td>\n",
       "      <td>389.969604</td>\n",
       "      <td>696.205022</td>\n",
       "      <td>692.336528</td>\n",
       "    </tr>\n",
       "    <tr>\n",
       "      <th>min</th>\n",
       "      <td>2.017060e+07</td>\n",
       "      <td>5.626677</td>\n",
       "      <td>6.395142</td>\n",
       "      <td>7.783619</td>\n",
       "    </tr>\n",
       "    <tr>\n",
       "      <th>25%</th>\n",
       "      <td>2.017081e+07</td>\n",
       "      <td>88.396033</td>\n",
       "      <td>64.446269</td>\n",
       "      <td>63.821891</td>\n",
       "    </tr>\n",
       "    <tr>\n",
       "      <th>50%</th>\n",
       "      <td>2.017102e+07</td>\n",
       "      <td>134.785558</td>\n",
       "      <td>121.325777</td>\n",
       "      <td>120.976474</td>\n",
       "    </tr>\n",
       "    <tr>\n",
       "      <th>75%</th>\n",
       "      <td>2.017122e+07</td>\n",
       "      <td>244.481752</td>\n",
       "      <td>314.267251</td>\n",
       "      <td>320.855237</td>\n",
       "    </tr>\n",
       "    <tr>\n",
       "      <th>max</th>\n",
       "      <td>2.018030e+07</td>\n",
       "      <td>3381.988229</td>\n",
       "      <td>5122.628383</td>\n",
       "      <td>5185.365981</td>\n",
       "    </tr>\n",
       "  </tbody>\n",
       "</table>\n",
       "</div>"
      ],
      "text/plain": [
       "            date_dt         dwell       flow_in      flow_out\n",
       "count  2.685200e+04  26852.000000  26852.000000  26852.000000\n",
       "mean   2.017294e+07    257.717463    381.688098    381.688098\n",
       "std    3.829110e+03    389.969604    696.205022    692.336528\n",
       "min    2.017060e+07      5.626677      6.395142      7.783619\n",
       "25%    2.017081e+07     88.396033     64.446269     63.821891\n",
       "50%    2.017102e+07    134.785558    121.325777    120.976474\n",
       "75%    2.017122e+07    244.481752    314.267251    320.855237\n",
       "max    2.018030e+07   3381.988229   5122.628383   5185.365981"
      ]
     },
     "execution_count": 6,
     "metadata": {},
     "output_type": "execute_result"
    }
   ],
   "source": [
    "flow_train.describe()"
   ]
  },
  {
   "cell_type": "code",
   "execution_count": 7,
   "metadata": {},
   "outputs": [
    {
     "data": {
      "text/html": [
       "<div>\n",
       "<style scoped>\n",
       "    .dataframe tbody tr th:only-of-type {\n",
       "        vertical-align: middle;\n",
       "    }\n",
       "\n",
       "    .dataframe tbody tr th {\n",
       "        vertical-align: top;\n",
       "    }\n",
       "\n",
       "    .dataframe thead th {\n",
       "        text-align: right;\n",
       "    }\n",
       "</style>\n",
       "<table border=\"1\" class=\"dataframe\">\n",
       "  <thead>\n",
       "    <tr style=\"text-align: right;\">\n",
       "      <th></th>\n",
       "      <th>date_dt</th>\n",
       "      <th>cnt</th>\n",
       "    </tr>\n",
       "  </thead>\n",
       "  <tbody>\n",
       "    <tr>\n",
       "      <th>count</th>\n",
       "      <td>2.480320e+06</td>\n",
       "      <td>2.480320e+06</td>\n",
       "    </tr>\n",
       "    <tr>\n",
       "      <th>mean</th>\n",
       "      <td>2.017298e+07</td>\n",
       "      <td>4.132164e+00</td>\n",
       "    </tr>\n",
       "    <tr>\n",
       "      <th>std</th>\n",
       "      <td>3.848467e+03</td>\n",
       "      <td>3.008938e+01</td>\n",
       "    </tr>\n",
       "    <tr>\n",
       "      <th>min</th>\n",
       "      <td>2.017060e+07</td>\n",
       "      <td>2.910852e-03</td>\n",
       "    </tr>\n",
       "    <tr>\n",
       "      <th>25%</th>\n",
       "      <td>2.017081e+07</td>\n",
       "      <td>2.910852e-02</td>\n",
       "    </tr>\n",
       "    <tr>\n",
       "      <th>50%</th>\n",
       "      <td>2.017102e+07</td>\n",
       "      <td>1.222558e-01</td>\n",
       "    </tr>\n",
       "    <tr>\n",
       "      <th>75%</th>\n",
       "      <td>2.017122e+07</td>\n",
       "      <td>5.355968e-01</td>\n",
       "    </tr>\n",
       "    <tr>\n",
       "      <th>max</th>\n",
       "      <td>2.018030e+07</td>\n",
       "      <td>1.020315e+03</td>\n",
       "    </tr>\n",
       "  </tbody>\n",
       "</table>\n",
       "</div>"
      ],
      "text/plain": [
       "            date_dt           cnt\n",
       "count  2.480320e+06  2.480320e+06\n",
       "mean   2.017298e+07  4.132164e+00\n",
       "std    3.848467e+03  3.008938e+01\n",
       "min    2.017060e+07  2.910852e-03\n",
       "25%    2.017081e+07  2.910852e-02\n",
       "50%    2.017102e+07  1.222558e-01\n",
       "75%    2.017122e+07  5.355968e-01\n",
       "max    2.018030e+07  1.020315e+03"
      ]
     },
     "execution_count": 7,
     "metadata": {},
     "output_type": "execute_result"
    }
   ],
   "source": [
    "transition_train.describe()"
   ]
  },
  {
   "cell_type": "markdown",
   "metadata": {},
   "source": [
    "## 2 数据分析"
   ]
  },
  {
   "cell_type": "code",
   "execution_count": 8,
   "metadata": {
    "scrolled": false
   },
   "outputs": [],
   "source": [
    "profile = pdp.ProfileReport(flow_train, check_correlation=False)\n",
    "profile.to_file(outputfile='flow_train.html')"
   ]
  },
  {
   "cell_type": "code",
   "execution_count": 9,
   "metadata": {
    "scrolled": false
   },
   "outputs": [],
   "source": [
    "profile = pdp.ProfileReport(transition_train, check_correlation=False)\n",
    "profile.to_file(outputfile='transition_train.html')"
   ]
  },
  {
   "cell_type": "markdown",
   "metadata": {},
   "source": [
    "在相应的html中可以看到数据分析报告"
   ]
  },
  {
   "cell_type": "markdown",
   "metadata": {},
   "source": [
    "### 2.1 日期统计"
   ]
  },
  {
   "cell_type": "code",
   "execution_count": 10,
   "metadata": {},
   "outputs": [
    {
     "data": {
      "text/plain": [
       "20170727    98\n",
       "20171116    98\n",
       "20170812    98\n",
       "20170828    98\n",
       "20170908    98\n",
       "20170924    98\n",
       "20171004    98\n",
       "20171020    98\n",
       "20171212    98\n",
       "20170715    98\n",
       "Name: date_dt, dtype: int64"
      ]
     },
     "execution_count": 10,
     "metadata": {},
     "output_type": "execute_result"
    }
   ],
   "source": [
    "flow_train.date_dt.value_counts()[:10]"
   ]
  },
  {
   "cell_type": "code",
   "execution_count": 11,
   "metadata": {},
   "outputs": [
    {
     "data": {
      "text/plain": [
       "20170816    8117\n",
       "20170602    8628\n",
       "20170712    8674\n",
       "20170619    8698\n",
       "20170628    8711\n",
       "20170616    8735\n",
       "20170725    8772\n",
       "20170724    8830\n",
       "20170829    8877\n",
       "20170906    8924\n",
       "20170825    8968\n",
       "20170920    8996\n",
       "20180206    9029\n",
       "20180225    9074\n",
       "20180217    9110\n",
       "20170930    9132\n",
       "20171213    9198\n",
       "20171221    9233\n",
       "20180109    9254\n",
       "20171016    9275\n",
       "20171230    9286\n",
       "20171027    9298\n",
       "20180113    9325\n",
       "20171114    9345\n",
       "20171102    9356\n",
       "20171215    9369\n",
       "20171201    9385\n",
       "20171030    9430\n",
       "Name: date_dt, dtype: int64"
      ]
     },
     "execution_count": 11,
     "metadata": {},
     "output_type": "execute_result"
    }
   ],
   "source": [
    "transition_train.date_dt.value_counts()[::-10]"
   ]
  },
  {
   "cell_type": "markdown",
   "metadata": {},
   "source": [
    "## 2.2 人口流动数据分布"
   ]
  },
  {
   "cell_type": "code",
   "execution_count": 23,
   "metadata": {},
   "outputs": [
    {
     "data": {
      "image/png": "[encoded data removed]",
      "text/plain": [
       "<Figure size 1440x360 with 1 Axes>"
      ]
     },
     "metadata": {},
     "output_type": "display_data"
    }
   ],
   "source": [
    "import matplotlib.pyplot as plt\n",
    "%matplotlib inline\n",
    "# 加载数据\n",
    "values=flow_train[flow_train['district_code']=='85792b2278de59316d1158f6a97537ec'].values\n",
    "# 分组\n",
    "groups=[3,4,5]\n",
    "i=1\n",
    "\n",
    "plt.figure(figsize=(20,5))\n",
    "# plt.subplot(len(groups),1,i)\n",
    "# for group in groups:\n",
    "#     plt.plot(values[:,group])\n",
    "#     plt.title(flow_train.columns[group],y=0.8,loc='right')\n",
    "#     i+=1\n",
    "# plt.show()\n",
    "\n",
    "\n",
    "# plt.subplot(len(groups),1,i)\n",
    "plt.plot(values[:,3],label='dwell')\n",
    "plt.plot(values[:,4],label='flow_out')\n",
    "plt.plot(values[:,5],label='flow_in')\n",
    "\n",
    "# plt.title(flow_train.columns[group],y=0.8,loc='right')\n",
    "plt.legend()\n",
    "plt.show()"
   ]
  },
  {
   "cell_type": "markdown",
   "metadata": {},
   "source": [
    "## 2.x 总结：\n",
    "- city_code：在人口流动数据和人口转移数据中都是：有7个不同的城市编码，并且这7个一样\n",
    "- district_code\t：在人口流动数据和人口转移数据中都是：有98个不同的城市编码，并且这98个一样\n",
    "- 在人口流动数据中：日期有274天，每一天都记录了每个区县的转移数据，从20170601到20180301，相当于9个月，日期时间是模拟的 ，274x98=26852条数据\n",
    "- 在人口转移数据中：日期有274天，但是对于每个区县的数据记录是不同的"
   ]
  },
  {
   "cell_type": "code",
   "execution_count": null,
   "metadata": {},
   "outputs": [],
   "source": []
  }
 ],
 "metadata": {
  "kernelspec": {
   "display_name": "Python 3",
   "language": "python",
   "name": "python3"
  },
  "language_info": {
   "codemirror_mode": {
    "name": "ipython",
    "version": 3
   },
   "file_extension": ".py",
   "mimetype": "text/x-python",
   "name": "python",
   "nbconvert_exporter": "python",
   "pygments_lexer": "ipython3",
   "version": "3.6.5"
  }
 },
 "nbformat": 4,
 "nbformat_minor": 2
}
